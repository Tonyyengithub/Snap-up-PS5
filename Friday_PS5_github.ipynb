{
 "cells": [
  {
   "cell_type": "code",
   "execution_count": 1,
   "metadata": {},
   "outputs": [],
   "source": [
    "from selenium import webdriver"
   ]
  },
  {
   "cell_type": "code",
   "execution_count": 2,
   "metadata": {
    "scrolled": true
   },
   "outputs": [],
   "source": [
    "driver = webdriver.Chrome('./chromedriver')"
   ]
  },
  {
   "cell_type": "code",
   "execution_count": 3,
   "metadata": {},
   "outputs": [],
   "source": [
    "# 引號內改成要去的網址\n",
    "driver.get('https://shopping.friday.tw/ec2/product?pid=7380168&cid=418800&sid=0&mid=1')"
   ]
  },
  {
   "cell_type": "code",
   "execution_count": 20,
   "metadata": {},
   "outputs": [],
   "source": [
    "driver.find_element_by_xpath(\"//*[@id=\\\"e3_buy\\\"]/span\").click()"
   ]
  },
  {
   "cell_type": "code",
   "execution_count": 21,
   "metadata": {},
   "outputs": [],
   "source": [
    "# Login\n",
    "account = driver.find_element_by_xpath(\"//*[@id=\\\"j_username\\\"]\")\n",
    "account.clear()\n",
    "account.send_keys(\"你的帳號\")\n",
    "password = driver.find_element_by_xpath('//*[@id=\\\"j_password\\\"]') #網頁的密碼點\n",
    "password.clear()\n",
    "password.send_keys(\"你的密碼\")\n",
    "driver.find_element_by_xpath(\"//*[@id=\\\"login_btn\\\"]\").click()"
   ]
  },
  {
   "cell_type": "code",
   "execution_count": 22,
   "metadata": {},
   "outputs": [],
   "source": [
    "driver.find_element_by_xpath(\"//*[@id=\\\"contarea-box\\\"]/ul/li/div[3]/button[1]/span\").click()"
   ]
  },
  {
   "cell_type": "code",
   "execution_count": 11,
   "metadata": {},
   "outputs": [],
   "source": [
    "cvc = driver.find_element_by_xpath(\"//*[@id=\\\"creidtcard_record_area_default\\\"]/div/div[2]/input[2]\")\n",
    "cvc.clear()\n",
    "cvc.send_keys(\"信用卡驗證碼\")"
   ]
  },
  {
   "cell_type": "code",
   "execution_count": 12,
   "metadata": {},
   "outputs": [],
   "source": [
    "driver.find_element_by_xpath(\"//*[@id=\\\"same\\\"]\")\n",
    "homee2 = driver.find_element_by_xpath(\"//*[@id=\\\"shippingaddress2\\\"]\")\n",
    "homee2.clear()\n",
    "homee2.send_keys(\"地址\")"
   ]
  },
  {
   "cell_type": "code",
   "execution_count": 13,
   "metadata": {},
   "outputs": [],
   "source": [
    "driver.find_element_by_xpath(\"//*[@id=\\\"contarea-box\\\"]/div[3]/button\").click()"
   ]
  },
  {
   "cell_type": "code",
   "execution_count": null,
   "metadata": {},
   "outputs": [],
   "source": [
    "# 以下為第一次購買才需要\n",
    "namee = driver.find_element_by_xpath(\"//*[@id=\\\"billingname\\\"]\")\n",
    "namee.clear()\n",
    "namee.send_keys(\"姓名\")\n",
    "phonee = driver.find_element_by_xpath(\"//*[@id=\\\"billingmobile\\\"]\")\n",
    "phonee.clear()\n",
    "phonee.send_keys(\"電話\")\n",
    "eemail = driver.find_element_by_xpath(\"//*[@id=\\\"billingemail\\\"]\")\n",
    "eemail.clear()\n",
    "eemail.send_keys(\"電子郵件\")\n",
    "homee = driver.find_element_by_xpath(\"//*[@id=\\\"addConsigneeCityId2\\\"]\")\n",
    "homee.send_keys(\"縣市\")\n",
    "year = driver.find_element_by_xpath(\"//*[@id=\\\"birthday_year\\\"]\")\n",
    "year.send_keys(\"西元出生年\")\n",
    "month = driver.find_element_by_xpath(\"//*[@id=\\\"birthday_month\\\"]\")\n",
    "month.send_keys(\"月份不含0\")\n",
    "day = driver.find_element_by_xpath(\"//*[@id=\\\"birthday_day\\\"]\")\n",
    "day.send_keys(\"日期不含0\")\n",
    "homee2 = driver.find_element_by_xpath(\"//*[@id=\\\"address3\\\"]\")\n",
    "homee2.send_keys(\"地址\")\n",
    "# 下面女生的話需改為gender2\n",
    "driver.find_element_by_xpath(\"//*[@id=\\\"gender1\\\"]\").click()\n",
    "driver.find_element_by_xpath(\"//*[@id=\\\"same\\\"]\").click()\n",
    "driver.find_element_by_xpath(\"//*[@id=\\\"same2\\\"]\").click()"
   ]
  }
 ],
 "metadata": {
  "kernelspec": {
   "display_name": "Python 3",
   "language": "python",
   "name": "python3"
  },
  "language_info": {
   "codemirror_mode": {
    "name": "ipython",
    "version": 3
   },
   "file_extension": ".py",
   "mimetype": "text/x-python",
   "name": "python",
   "nbconvert_exporter": "python",
   "pygments_lexer": "ipython3",
   "version": "3.8.3"
  }
 },
 "nbformat": 4,
 "nbformat_minor": 4
}
